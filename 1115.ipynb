{
  "nbformat": 4,
  "nbformat_minor": 0,
  "metadata": {
    "colab": {
      "provenance": [],
      "authorship_tag": "ABX9TyOJ4cPG95eYjjHd3YBMgREE",
      "include_colab_link": true
    },
    "kernelspec": {
      "name": "python3",
      "display_name": "Python 3"
    },
    "language_info": {
      "name": "python"
    }
  },
  "cells": [
    {
      "cell_type": "markdown",
      "metadata": {
        "id": "view-in-github",
        "colab_type": "text"
      },
      "source": [
        "<a href=\"https://colab.research.google.com/github/TKU-AI-411570905/TKU-AI-411570905/blob/main/1115.ipynb\" target=\"_parent\"><img src=\"https://colab.research.google.com/assets/colab-badge.svg\" alt=\"Open In Colab\"/></a>"
      ]
    },
    {
      "cell_type": "code",
      "execution_count": 1,
      "metadata": {
        "colab": {
          "base_uri": "https://localhost:8080/"
        },
        "id": "G2DSd-AlvbiU",
        "outputId": "09be77bb-3993-4acd-98f6-8c89d6e9c824"
      },
      "outputs": [
        {
          "output_type": "stream",
          "name": "stdout",
          "text": [
            "hi,python\n"
          ]
        }
      ],
      "source": [
        "print(\"hi, python\")"
      ]
    },
    {
      "cell_type": "code",
      "source": [
        "print(\"今天是11月15日\")"
      ],
      "metadata": {
        "colab": {
          "base_uri": "https://localhost:8080/"
        },
        "id": "A7OxKWxuwP6_",
        "outputId": "c058f241-f397-4f6d-8f47-2b3002906f1f"
      },
      "execution_count": 2,
      "outputs": [
        {
          "output_type": "stream",
          "name": "stdout",
          "text": [
            "今天是11月15日\n"
          ]
        }
      ]
    },
    {
      "cell_type": "code",
      "source": [
        "print(\"黃捷琦,411570905\")"
      ],
      "metadata": {
        "colab": {
          "base_uri": "https://localhost:8080/"
        },
        "id": "ElXZEwdexbzN",
        "outputId": "378254dd-b032-4d48-9d56-c3b728097411"
      },
      "execution_count": 3,
      "outputs": [
        {
          "output_type": "stream",
          "name": "stdout",
          "text": [
            "黃捷琦,411570905\n"
          ]
        }
      ]
    },
    {
      "cell_type": "markdown",
      "source": [],
      "metadata": {
        "id": "6gn56-gRwBti"
      }
    }
  ]
}